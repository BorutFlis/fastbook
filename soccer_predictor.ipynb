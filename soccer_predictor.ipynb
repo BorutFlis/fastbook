{
  "nbformat": 4,
  "nbformat_minor": 0,
  "metadata": {
    "colab": {
      "name": "soccer_predictor.ipynb",
      "provenance": [],
      "collapsed_sections": [],
      "authorship_tag": "ABX9TyPXchtTFktsx5GJJ2+1n50+",
      "include_colab_link": true
    },
    "kernelspec": {
      "name": "python3",
      "display_name": "Python 3"
    }
  },
  "cells": [
    {
      "cell_type": "markdown",
      "metadata": {
        "id": "view-in-github",
        "colab_type": "text"
      },
      "source": [
        "<a href=\"https://colab.research.google.com/github/BorutFlis/fastbook/blob/master/soccer_predictor.ipynb\" target=\"_parent\"><img src=\"https://colab.research.google.com/assets/colab-badge.svg\" alt=\"Open In Colab\"/></a>"
      ]
    },
    {
      "cell_type": "code",
      "metadata": {
        "id": "_gppe2u0TBK8",
        "outputId": "b82d77a2-3748-4ee4-d8f5-c977f38cd816",
        "colab": {
          "base_uri": "https://localhost:8080/",
          "height": 34
        }
      },
      "source": [
        "from google.colab import drive\n",
        "drive.mount('/content/gdrive')"
      ],
      "execution_count": 2,
      "outputs": [
        {
          "output_type": "stream",
          "text": [
            "Mounted at /content/gdrive\n"
          ],
          "name": "stdout"
        }
      ]
    },
    {
      "cell_type": "code",
      "metadata": {
        "id": "O_-3d_FxTh3q",
        "outputId": "eb29b077-b2c7-4e64-910e-c19287a1350e",
        "colab": {
          "base_uri": "https://localhost:8080/",
          "height": 255
        }
      },
      "source": [
        "import pandas as pd\n",
        "df = pd.read_csv('/content/gdrive/My Drive/classifier_min.csv',index_col=0)\n",
        "print(df)"
      ],
      "execution_count": 3,
      "outputs": [
        {
          "output_type": "stream",
          "text": [
            "      home_total_goal_count_pre_game  ...  results\n",
            "0                           2.605263  ...      win\n",
            "1                           2.540000  ...     loss\n",
            "2                           2.540000  ...     loss\n",
            "3                           2.657895  ...      win\n",
            "4                           2.578947  ...     draw\n",
            "...                              ...  ...      ...\n",
            "5473                        2.815789  ...     draw\n",
            "5474                        2.736842  ...      win\n",
            "5475                        2.447368  ...     loss\n",
            "5476                        2.105263  ...     draw\n",
            "5477                        3.500000  ...      win\n",
            "\n",
            "[5478 rows x 19 columns]\n"
          ],
          "name": "stdout"
        }
      ]
    },
    {
      "cell_type": "code",
      "metadata": {
        "id": "0x-kyl3ULlvQ",
        "outputId": "f04b9ecf-b148-4b97-8207-2f20c1410790",
        "colab": {
          "base_uri": "https://localhost:8080/",
          "height": 204
        }
      },
      "source": [
        "#hide\n",
        "!pip install -Uqq fastbook\n",
        "from fastai.tabular.all import *"
      ],
      "execution_count": 4,
      "outputs": [
        {
          "output_type": "stream",
          "text": [
            "\u001b[K     |████████████████████████████████| 727kB 1.4MB/s \n",
            "\u001b[K     |████████████████████████████████| 1.0MB 6.2MB/s \n",
            "\u001b[K     |████████████████████████████████| 51kB 4.8MB/s \n",
            "\u001b[K     |████████████████████████████████| 51kB 4.5MB/s \n",
            "\u001b[K     |████████████████████████████████| 194kB 8.1MB/s \n",
            "\u001b[K     |████████████████████████████████| 40kB 3.6MB/s \n",
            "\u001b[K     |████████████████████████████████| 92kB 5.1MB/s \n",
            "\u001b[K     |████████████████████████████████| 51kB 4.9MB/s \n",
            "\u001b[K     |████████████████████████████████| 61kB 5.8MB/s \n",
            "\u001b[K     |████████████████████████████████| 51kB 4.8MB/s \n",
            "\u001b[K     |████████████████████████████████| 2.6MB 8.1MB/s \n",
            "\u001b[?25h"
          ],
          "name": "stdout"
        }
      ]
    },
    {
      "cell_type": "code",
      "metadata": {
        "id": "lqaUZtTlti63"
      },
      "source": [
        "procs = [Categorify, FillMissing, Normalize]\n",
        "dls = TabularDataLoaders.from_df(df, procs=procs,\n",
        "                                 y_names=\"results\", valid_idx=list(range(800,1000)), bs=64)\n",
        "learn = tabular_learner(dls,metrics=accuracy)"
      ],
      "execution_count": 9,
      "outputs": []
    },
    {
      "cell_type": "code",
      "metadata": {
        "id": "YKG1HUrXpMoN",
        "outputId": "98101709-b69c-482b-aefa-958ce122f8a7",
        "colab": {
          "base_uri": "https://localhost:8080/",
          "height": 669
        }
      },
      "source": [
        "learn.fit_one_cycle(20)"
      ],
      "execution_count": 11,
      "outputs": [
        {
          "output_type": "display_data",
          "data": {
            "text/html": [
              "<table border=\"1\" class=\"dataframe\">\n",
              "  <thead>\n",
              "    <tr style=\"text-align: left;\">\n",
              "      <th>epoch</th>\n",
              "      <th>train_loss</th>\n",
              "      <th>valid_loss</th>\n",
              "      <th>accuracy</th>\n",
              "      <th>time</th>\n",
              "    </tr>\n",
              "  </thead>\n",
              "  <tbody>\n",
              "    <tr>\n",
              "      <td>0</td>\n",
              "      <td>0.965656</td>\n",
              "      <td>0.959752</td>\n",
              "      <td>0.535000</td>\n",
              "      <td>00:01</td>\n",
              "    </tr>\n",
              "    <tr>\n",
              "      <td>1</td>\n",
              "      <td>0.967575</td>\n",
              "      <td>0.948196</td>\n",
              "      <td>0.530000</td>\n",
              "      <td>00:00</td>\n",
              "    </tr>\n",
              "    <tr>\n",
              "      <td>2</td>\n",
              "      <td>0.971615</td>\n",
              "      <td>0.962704</td>\n",
              "      <td>0.510000</td>\n",
              "      <td>00:01</td>\n",
              "    </tr>\n",
              "    <tr>\n",
              "      <td>3</td>\n",
              "      <td>0.966309</td>\n",
              "      <td>0.962152</td>\n",
              "      <td>0.515000</td>\n",
              "      <td>00:01</td>\n",
              "    </tr>\n",
              "    <tr>\n",
              "      <td>4</td>\n",
              "      <td>0.959437</td>\n",
              "      <td>0.989019</td>\n",
              "      <td>0.525000</td>\n",
              "      <td>00:01</td>\n",
              "    </tr>\n",
              "    <tr>\n",
              "      <td>5</td>\n",
              "      <td>0.957265</td>\n",
              "      <td>0.958429</td>\n",
              "      <td>0.530000</td>\n",
              "      <td>00:00</td>\n",
              "    </tr>\n",
              "    <tr>\n",
              "      <td>6</td>\n",
              "      <td>0.949974</td>\n",
              "      <td>0.965288</td>\n",
              "      <td>0.540000</td>\n",
              "      <td>00:01</td>\n",
              "    </tr>\n",
              "    <tr>\n",
              "      <td>7</td>\n",
              "      <td>0.939857</td>\n",
              "      <td>0.974761</td>\n",
              "      <td>0.540000</td>\n",
              "      <td>00:01</td>\n",
              "    </tr>\n",
              "    <tr>\n",
              "      <td>8</td>\n",
              "      <td>0.942058</td>\n",
              "      <td>0.958732</td>\n",
              "      <td>0.530000</td>\n",
              "      <td>00:01</td>\n",
              "    </tr>\n",
              "    <tr>\n",
              "      <td>9</td>\n",
              "      <td>0.928578</td>\n",
              "      <td>0.966389</td>\n",
              "      <td>0.525000</td>\n",
              "      <td>00:01</td>\n",
              "    </tr>\n",
              "    <tr>\n",
              "      <td>10</td>\n",
              "      <td>0.923880</td>\n",
              "      <td>0.967512</td>\n",
              "      <td>0.550000</td>\n",
              "      <td>00:01</td>\n",
              "    </tr>\n",
              "    <tr>\n",
              "      <td>11</td>\n",
              "      <td>0.909198</td>\n",
              "      <td>0.986241</td>\n",
              "      <td>0.555000</td>\n",
              "      <td>00:01</td>\n",
              "    </tr>\n",
              "    <tr>\n",
              "      <td>12</td>\n",
              "      <td>0.901510</td>\n",
              "      <td>0.979609</td>\n",
              "      <td>0.530000</td>\n",
              "      <td>00:01</td>\n",
              "    </tr>\n",
              "    <tr>\n",
              "      <td>13</td>\n",
              "      <td>0.891735</td>\n",
              "      <td>0.988995</td>\n",
              "      <td>0.545000</td>\n",
              "      <td>00:00</td>\n",
              "    </tr>\n",
              "    <tr>\n",
              "      <td>14</td>\n",
              "      <td>0.883372</td>\n",
              "      <td>0.981369</td>\n",
              "      <td>0.530000</td>\n",
              "      <td>00:01</td>\n",
              "    </tr>\n",
              "    <tr>\n",
              "      <td>15</td>\n",
              "      <td>0.879846</td>\n",
              "      <td>0.993798</td>\n",
              "      <td>0.535000</td>\n",
              "      <td>00:00</td>\n",
              "    </tr>\n",
              "    <tr>\n",
              "      <td>16</td>\n",
              "      <td>0.866365</td>\n",
              "      <td>0.989358</td>\n",
              "      <td>0.535000</td>\n",
              "      <td>00:01</td>\n",
              "    </tr>\n",
              "    <tr>\n",
              "      <td>17</td>\n",
              "      <td>0.859227</td>\n",
              "      <td>0.995633</td>\n",
              "      <td>0.540000</td>\n",
              "      <td>00:00</td>\n",
              "    </tr>\n",
              "    <tr>\n",
              "      <td>18</td>\n",
              "      <td>0.860335</td>\n",
              "      <td>0.990663</td>\n",
              "      <td>0.530000</td>\n",
              "      <td>00:01</td>\n",
              "    </tr>\n",
              "    <tr>\n",
              "      <td>19</td>\n",
              "      <td>0.860076</td>\n",
              "      <td>0.991836</td>\n",
              "      <td>0.540000</td>\n",
              "      <td>00:01</td>\n",
              "    </tr>\n",
              "  </tbody>\n",
              "</table>"
            ],
            "text/plain": [
              "<IPython.core.display.HTML object>"
            ]
          },
          "metadata": {
            "tags": []
          }
        }
      ]
    }
  ]
}